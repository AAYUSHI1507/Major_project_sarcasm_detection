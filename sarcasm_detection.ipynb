{
 "cells": [
  {
   "cell_type": "code",
   "execution_count": 8,
   "metadata": {},
   "outputs": [],
   "source": [
    "# Importing some libraries\n",
    "import pandas as pd\n",
    "from sklearn.model_selection import train_test_split\n",
    "from sklearn.metrics import confusion_matrix\n",
    "from sklearn.svm import LinearSVC\n",
    "from sklearn.model_selection import cross_val_score\n",
    "import pickle\n",
    "from nltk.stem import PorterStemmer"
   ]
  },
  {
   "cell_type": "code",
   "execution_count": 13,
   "metadata": {},
   "outputs": [
    {
     "data": {
      "text/plain": [
       "title               2933\n",
       "link                2933\n",
       "keywords            1248\n",
       "creator              962\n",
       "video_url              0\n",
       "description         2791\n",
       "content              496\n",
       "pubDate             2933\n",
       "full_description    1639\n",
       "image_url           1753\n",
       "source_id           2933\n",
       "dtype: int64"
      ]
     },
     "execution_count": 13,
     "metadata": {},
     "output_type": "execute_result"
    }
   ],
   "source": [
    "# Loading data from json file\n",
    "data = pd.read_csv('dataset_f\\World_Politics_News\\World_Politics_News.csv')\n",
    "data.head()\n",
    "data.count()"
   ]
  },
  {
   "cell_type": "code",
   "execution_count": 53,
   "metadata": {},
   "outputs": [
    {
     "name": "stdout",
     "output_type": "stream",
     "text": [
      "False\n"
     ]
    },
    {
     "data": {
      "text/html": [
       "<div>\n",
       "<style scoped>\n",
       "    .dataframe tbody tr th:only-of-type {\n",
       "        vertical-align: middle;\n",
       "    }\n",
       "\n",
       "    .dataframe tbody tr th {\n",
       "        vertical-align: top;\n",
       "    }\n",
       "\n",
       "    .dataframe thead th {\n",
       "        text-align: right;\n",
       "    }\n",
       "</style>\n",
       "<table border=\"1\" class=\"dataframe\">\n",
       "  <thead>\n",
       "    <tr style=\"text-align: right;\">\n",
       "      <th></th>\n",
       "      <th>is_sarcastic</th>\n",
       "      <th>headline</th>\n",
       "      <th>article_link</th>\n",
       "    </tr>\n",
       "  </thead>\n",
       "  <tbody>\n",
       "    <tr>\n",
       "      <th>0</th>\n",
       "      <td>1</td>\n",
       "      <td>thirtysomething scientists unveil doomsday clo...</td>\n",
       "      <td>https://www.theonion.com/thirtysomething-scien...</td>\n",
       "    </tr>\n",
       "    <tr>\n",
       "      <th>1</th>\n",
       "      <td>0</td>\n",
       "      <td>dem rep  totally nails why congress is falling...</td>\n",
       "      <td>https://www.huffingtonpost.com/entry/donna-edw...</td>\n",
       "    </tr>\n",
       "    <tr>\n",
       "      <th>2</th>\n",
       "      <td>0</td>\n",
       "      <td>eat your veggies    deliciously different recipes</td>\n",
       "      <td>https://www.huffingtonpost.com/entry/eat-your-...</td>\n",
       "    </tr>\n",
       "    <tr>\n",
       "      <th>3</th>\n",
       "      <td>1</td>\n",
       "      <td>inclement weather prevents liar from getting t...</td>\n",
       "      <td>https://local.theonion.com/inclement-weather-p...</td>\n",
       "    </tr>\n",
       "    <tr>\n",
       "      <th>4</th>\n",
       "      <td>1</td>\n",
       "      <td>mother comes pretty close to using word  strea...</td>\n",
       "      <td>https://www.theonion.com/mother-comes-pretty-c...</td>\n",
       "    </tr>\n",
       "  </tbody>\n",
       "</table>\n",
       "</div>"
      ],
      "text/plain": [
       "   is_sarcastic                                           headline  \\\n",
       "0             1  thirtysomething scientists unveil doomsday clo...   \n",
       "1             0  dem rep  totally nails why congress is falling...   \n",
       "2             0  eat your veggies    deliciously different recipes   \n",
       "3             1  inclement weather prevents liar from getting t...   \n",
       "4             1  mother comes pretty close to using word  strea...   \n",
       "\n",
       "                                        article_link  \n",
       "0  https://www.theonion.com/thirtysomething-scien...  \n",
       "1  https://www.huffingtonpost.com/entry/donna-edw...  \n",
       "2  https://www.huffingtonpost.com/entry/eat-your-...  \n",
       "3  https://local.theonion.com/inclement-weather-p...  \n",
       "4  https://www.theonion.com/mother-comes-pretty-c...  "
      ]
     },
     "execution_count": 53,
     "metadata": {},
     "output_type": "execute_result"
    }
   ],
   "source": [
    "# Checking null values in headline column\n",
    "print(data['headline'].isnull().any())\n",
    "data.head()"
   ]
  },
  {
   "cell_type": "code",
   "execution_count": 54,
   "metadata": {},
   "outputs": [],
   "source": [
    "# getting features and labels\n",
    "features = data['headline']\n",
    "labels = data['is_sarcastic']"
   ]
  },
  {
   "cell_type": "code",
   "execution_count": 55,
   "metadata": {},
   "outputs": [],
   "source": [
    "# Stemming our data\n",
    "ps = PorterStemmer()\n",
    "\n",
    "features = features.apply(lambda x: x.split())\n",
    "features = features.apply(lambda x : ' '.join([ps.stem(word) for word in x]))"
   ]
  },
  {
   "cell_type": "code",
   "execution_count": 85,
   "metadata": {},
   "outputs": [],
   "source": [
    "df_2 = pd.read_csv('C:/Users/Hp/Documents/vscode_folder/major_project_part2/dataset_f/india-news-headlines.csv')\n",
    "df_21 = df_2.copy()\n",
    "df_2.drop('publish_date',inplace=True, axis = 1)\n",
    "df_2.drop('headline_category',inplace = True, axis = 1)"
   ]
  },
  {
   "cell_type": "code",
   "execution_count": 90,
   "metadata": {},
   "outputs": [
    {
     "name": "stdout",
     "output_type": "stream",
     "text": [
      "0        Status quo will not be disturbed at Ayodhya; s...\n",
      "1                      Fissures in Hurriyat over Pak visit\n",
      "2                    America's unwanted heading for India?\n",
      "3                       For bigwigs; it is destination Goa\n",
      "4                     Extra buses to clear tourist traffic\n",
      "                               ...                        \n",
      "28614                                  Force comes to town\n",
      "28615                    Happy puts sleuths on Nepal trail\n",
      "28616                          Toy train ride to be costly\n",
      "28617               Of war and peace and television images\n",
      "28618            Musharraf briefs US envoy on Pak response\n",
      "Name: headline_text, Length: 28619, dtype: object\n",
      "##############\n",
      "3622351    BSP announces names on all 22 seats of Prayagr...\n",
      "3622352    Over 1 crore devotees take holy dip on Mauni A...\n",
      "3622353                   Police team attacked in Pratapgarh\n",
      "3622354         Nomination begins in Prayagraj for 5th phase\n",
      "3622355    Shops vacated; 60-yr-old building to be demoli...\n",
      "                                 ...                        \n",
      "3650965    J&K sacks 2 cops; 3 other employees over terro...\n",
      "3650966    Ranbir Kapoor says 'Rishi Kapoor enjoyed his a...\n",
      "3650967    As Covid-19 cases drop to nil in southern dist...\n",
      "3650968    Tamil Nadu sees marginal rise of Covid cases w...\n",
      "3650969    Tamil Nadu sees marginal rise of Covid cases w...\n",
      "Name: headline_text, Length: 28619, dtype: object\n"
     ]
    }
   ],
   "source": [
    "df3 = df_2['headline_text'].head(28619)\n",
    "print(df3)\n",
    "print(\"##############\")\n",
    "df4 = df_2['headline_text'].tail(28619)\n",
    "print(df4)"
   ]
  },
  {
   "cell_type": "code",
   "execution_count": 92,
   "metadata": {},
   "outputs": [
    {
     "name": "stdout",
     "output_type": "stream",
     "text": [
      "0          Status quo will not be disturbed at Ayodhya; s...\n",
      "1                        Fissures in Hurriyat over Pak visit\n",
      "2                      America's unwanted heading for India?\n",
      "3                         For bigwigs; it is destination Goa\n",
      "4                       Extra buses to clear tourist traffic\n",
      "                                 ...                        \n",
      "3650965    J&K sacks 2 cops; 3 other employees over terro...\n",
      "3650966    Ranbir Kapoor says 'Rishi Kapoor enjoyed his a...\n",
      "3650967    As Covid-19 cases drop to nil in southern dist...\n",
      "3650968    Tamil Nadu sees marginal rise of Covid cases w...\n",
      "3650969    Tamil Nadu sees marginal rise of Covid cases w...\n",
      "Name: headline_text, Length: 57238, dtype: object\n"
     ]
    }
   ],
   "source": [
    "frames = [df3,df4]\n",
    "df5 = pd.concat(frames)\n",
    "print(df5)"
   ]
  },
  {
   "cell_type": "code",
   "execution_count": 59,
   "metadata": {},
   "outputs": [
    {
     "name": "stdout",
     "output_type": "stream",
     "text": [
      "3650970\n"
     ]
    }
   ],
   "source": [
    "print(len(docs))"
   ]
  },
  {
   "cell_type": "code",
   "execution_count": 63,
   "metadata": {},
   "outputs": [
    {
     "name": "stdout",
     "output_type": "stream",
     "text": [
      "Parivar dismisses PM's warning\n",
      "India; Pak exchange lists of N-plants\n",
      "Will Qureshi's return really help the govt?\n",
      "PM's tacit message: Put Ram tample on hold\n",
      "Text of the Prime Minister's article\n",
      "NCW to focus on violence against women\n",
      "BBC's reality TV will focus on AIIMS\n",
      "Jaitley firm on legal reforms\n",
      "Hoshangabad farmers have enough water\n",
      "BJP jumps into rail track conversion issue\n",
      "America's unwanted heading for India?\n",
      "State may take AP to court over Krishna\n",
      "This official has sued the briber\n",
      "Park turns temple compound as residents watch\n",
      "Moves afoot to evict squatters in Urban dist\n",
      "Mafia calls the shots in Gandhinagar too\n",
      "Status quo will not be disturbed at Ayodhya; says Vajpayee\n",
      "Fissures in Hurriyat over Pak visit\n",
      "America's unwanted heading for India?\n",
      "For bigwigs; it is destination Goa\n",
      "Extra buses to clear tourist traffic\n",
      "Dilute the power of transfers; says Riberio\n",
      "Focus shifts to teaching of Hindi\n",
      "IT will become compulsory in schools\n",
      "Move to stop freedom fighters' pension flayed\n",
      "Gilani claims he applied for passport 2 years ago\n",
      "Parivar dismisses PM's warning\n",
      "India; Pak exchange lists of N-plants\n",
      "Will Qureshi's return really help the govt?\n",
      "PM's tacit message: Put Ram tample on hold\n",
      "Text of the Prime Minister's article\n"
     ]
    }
   ],
   "source": [
    "for i in range(10,41):\n",
    "    print(docs[i])"
   ]
  }
 ],
 "metadata": {
  "kernelspec": {
   "display_name": "Python 3.8.13 ('tensorflow')",
   "language": "python",
   "name": "python3"
  },
  "language_info": {
   "codemirror_mode": {
    "name": "ipython",
    "version": 3
   },
   "file_extension": ".py",
   "mimetype": "text/x-python",
   "name": "python",
   "nbconvert_exporter": "python",
   "pygments_lexer": "ipython3",
   "version": "3.8.13"
  },
  "orig_nbformat": 4,
  "vscode": {
   "interpreter": {
    "hash": "88c464f4bb987f1147e2b5e576f65180d6e789fdae6574118fdfb1499bc85597"
   }
  }
 },
 "nbformat": 4,
 "nbformat_minor": 2
}
